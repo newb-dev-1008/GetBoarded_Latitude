{
 "cells": [
  {
   "cell_type": "markdown",
   "metadata": {},
   "source": [
    "# Time series visuals of COVID19 "
   ]
  },
  {
   "cell_type": "code",
   "execution_count": 32,
   "metadata": {},
   "outputs": [],
   "source": [
    "import matplotlib.pyplot as plt\n",
    "import pandas as pd\n",
    "import numpy as np\n",
    "import seaborn as sns\n",
    "\n",
    "import scipy, pylab"
   ]
  },
  {
   "cell_type": "code",
   "execution_count": 3,
   "metadata": {
    "scrolled": true
   },
   "outputs": [
    {
     "name": "stdout",
     "output_type": "stream",
     "text": [
      "            Province/State         Country/Region        Lat        Long  \\\n",
      "0                      NaN            Afghanistan  33.000000   65.000000   \n",
      "1                      NaN                Albania  41.153300   20.168300   \n",
      "2                      NaN                Algeria  28.033900    1.659600   \n",
      "3                      NaN                Andorra  42.506300    1.521800   \n",
      "4                      NaN                 Angola -11.202700   17.873900   \n",
      "..                     ...                    ...        ...         ...   \n",
      "243                    NaN                   Mali  17.570692   -3.996166   \n",
      "244                    NaN  Saint Kitts and Nevis  17.357822  -62.782998   \n",
      "245  Northwest Territories                 Canada  64.825500 -124.845700   \n",
      "246                  Yukon                 Canada  64.282300 -135.000000   \n",
      "247                    NaN                 Kosovo  42.602636   20.902977   \n",
      "\n",
      "     1/22/2020  1/23/2020  1/24/2020  1/25/2020  1/26/2020  1/27/2020  ...  \\\n",
      "0            0          0          0          0          0          0  ...   \n",
      "1            0          0          0          0          0          0  ...   \n",
      "2            0          0          0          0          0          0  ...   \n",
      "3            0          0          0          0          0          0  ...   \n",
      "4            0          0          0          0          0          0  ...   \n",
      "..         ...        ...        ...        ...        ...        ...  ...   \n",
      "243          0          0          0          0          0          0  ...   \n",
      "244          0          0          0          0          0          0  ...   \n",
      "245          0          0          0          0          0          0  ...   \n",
      "246          0          0          0          0          0          0  ...   \n",
      "247          0          0          0          0          0          0  ...   \n",
      "\n",
      "     3/17/2020  3/18/2020  3/19/2020  3/20/2020  3/21/2020  3/22/2020  \\\n",
      "0           22         22         22         24         24         40   \n",
      "1           55         59         64         70         76         89   \n",
      "2           60         74         87         90        139        201   \n",
      "3           39         39         53         75         88        113   \n",
      "4            0          0          0          1          2          2   \n",
      "..         ...        ...        ...        ...        ...        ...   \n",
      "243          0          0          0          0          0          0   \n",
      "244          0          0          0          0          0          0   \n",
      "245          0          0          0          0          0          0   \n",
      "246          0          0          0          0          0          0   \n",
      "247          0          0          0          0          0          0   \n",
      "\n",
      "     3/23/2020  3/24/2020  3/25/2020  3/26/2020  \n",
      "0           40         74         84         94  \n",
      "1          104        123        146        174  \n",
      "2          230        264        302        367  \n",
      "3          133        164        188        224  \n",
      "4            3          3          3          4  \n",
      "..         ...        ...        ...        ...  \n",
      "243          0          0          2          4  \n",
      "244          0          0          2          2  \n",
      "245          0          0          0          1  \n",
      "246          0          0          0          3  \n",
      "247          0          0          0         71  \n",
      "\n",
      "[248 rows x 69 columns]\n"
     ]
    }
   ],
   "source": [
    "df=pd.read_csv(r'C:\\Users\\91952\\Downloads\\time_series_covid19_confirmed.xlsx - time_series_covid19_confirmed.csv')\n",
    "print(df)"
   ]
  },
  {
   "cell_type": "code",
   "execution_count": 9,
   "metadata": {},
   "outputs": [
    {
     "name": "stdout",
     "output_type": "stream",
     "text": [
      "          3/26/2020\n",
      "Lat                \n",
      "-41.4545         47\n",
      "-40.9006        283\n",
      "-38.4161        502\n",
      "-37.8136        520\n",
      "-35.6751       1306\n",
      "...             ...\n",
      " 64.0000        958\n",
      " 64.2823          3\n",
      " 64.8255          1\n",
      " 64.9631        802\n",
      " 71.7069          6\n",
      "\n",
      "[239 rows x 1 columns]\n"
     ]
    }
   ],
   "source": [
    "df_total=df.groupby(\"Lat\")[[\"3/26/2020\"]].sum()\n",
    "print(df_total)"
   ]
  },
  {
   "cell_type": "code",
   "execution_count": 11,
   "metadata": {},
   "outputs": [
    {
     "name": "stdout",
     "output_type": "stream",
     "text": [
      "          3/26/2020\n",
      "Lat                \n",
      "-41.4545         47\n",
      "-40.9006        283\n",
      "-38.4161        502\n",
      "-37.8136        520\n",
      "-35.6751       1306\n",
      "...             ...\n",
      " 64.0000        958\n",
      " 64.2823          3\n",
      " 64.8255          1\n",
      " 64.9631        802\n",
      " 71.7069          6\n",
      "\n",
      "[239 rows x 1 columns]\n"
     ]
    }
   ],
   "source": [
    "df_sorted=df_total.sort_values(\"Lat\",ascending=True)\n",
    "print(df_sorted)"
   ]
  },
  {
   "cell_type": "code",
   "execution_count": 57,
   "metadata": {},
   "outputs": [
    {
     "data": {
      "image/png": "[encoded data removed]",
      "text/plain": [
       "<Figure size 432x288 with 1 Axes>"
      ]
     },
     "metadata": {
      "needs_background": "light"
     },
     "output_type": "display_data"
    }
   ],
   "source": [
    "ax1=plt.subplot(111)\n",
    "plt.xlim([-90,90])\n",
    "plt.ylim([0,100000])\n",
    "plt.yticks(np.arange(0,100000,20000))\n",
    "plt.xticks(np.arange(-90, 90,10))\n",
    "plt.title(\"Confirmed case around the world in a single day\")\n",
    "plt.xlabel(\"Lattitude\")\n",
    "plt.ylabel(\"3/26/2020\")\n",
    "ax=plt.plot(df_sorted)\n"
   ]
  },
  {
   "cell_type": "code",
   "execution_count": 49,
   "metadata": {},
   "outputs": [
    {
     "name": "stdout",
     "output_type": "stream",
     "text": [
      "           3/26/2020\n",
      "Long                \n",
      "-135.0000          3\n",
      "-124.8457          1\n",
      "-123.1207        725\n",
      "-122.6655         13\n",
      "-116.5765        486\n",
      "...              ...\n",
      " 151.2093       1219\n",
      " 153.4000        493\n",
      " 165.6180         14\n",
      " 174.8860        283\n",
      " 178.0650          5\n",
      "\n",
      "[242 rows x 1 columns]\n",
      "           3/26/2020\n",
      "Long                \n",
      "-135.0000          3\n",
      "-124.8457          1\n",
      "-123.1207        725\n",
      "-122.6655         13\n",
      "-116.5765        486\n",
      "...              ...\n",
      " 151.2093       1219\n",
      " 153.4000        493\n",
      " 165.6180         14\n",
      " 174.8860        283\n",
      " 178.0650          5\n",
      "\n",
      "[242 rows x 1 columns]\n"
     ]
    },
    {
     "data": {
      "text/plain": [
       "[<matplotlib.lines.Line2D at 0x1b8d432d808>]"
      ]
     },
     "execution_count": 49,
     "metadata": {},
     "output_type": "execute_result"
    },
    {
     "data": {
      "image/png": "[encoded data removed]",
      "text/plain": [
       "<Figure size 432x288 with 1 Axes>"
      ]
     },
     "metadata": {
      "needs_background": "light"
     },
     "output_type": "display_data"
    }
   ],
   "source": [
    "df_total2=df.groupby(\"Long\")[[\"3/26/2020\"]].sum()\n",
    "print(df_total2)\n",
    "df_sorted2=df_total2.sort_values(\"Long\",ascending=True)\n",
    "print(df_sorted2)\n",
    "plt.axes()\n",
    "plt.xlim([-180,180])\n",
    "plt.ylim([0,100000])\n",
    "plt.yticks(np.arange(0,100000,20000))\n",
    "plt.xticks(np.arange(-180, 180,60))\n",
    "plt.title(\"Confirmed case around the world in a single day\")\n",
    "plt.xlabel(\"Longitude\")\n",
    "plt.ylabel(\"3/26/2020\")\n",
    "plt.plot(df_sorted2,color='red')"
   ]
  },
  {
   "cell_type": "code",
   "execution_count": 50,
   "metadata": {},
   "outputs": [
    {
     "name": "stdout",
     "output_type": "stream",
     "text": [
      "            Province/State         Country/Region        Lat        Long  \\\n",
      "0                      NaN            Afghanistan  33.000000   65.000000   \n",
      "1                      NaN                Albania  41.153300   20.168300   \n",
      "2                      NaN                Algeria  28.033900    1.659600   \n",
      "3                      NaN                Andorra  42.506300    1.521800   \n",
      "4                      NaN                 Angola -11.202700   17.873900   \n",
      "..                     ...                    ...        ...         ...   \n",
      "243                    NaN                   Mali  17.570692   -3.996166   \n",
      "244                    NaN  Saint Kitts and Nevis  17.357822  -62.782998   \n",
      "245  Northwest Territories                 Canada  64.825500 -124.845700   \n",
      "246                  Yukon                 Canada  64.282300 -135.000000   \n",
      "247                    NaN                 Kosovo  42.602636   20.902977   \n",
      "\n",
      "     1/22/2020  1/23/2020  1/24/2020  1/25/2020  1/26/2020  1/27/2020  ...  \\\n",
      "0            0          0          0          0          0          0  ...   \n",
      "1            0          0          0          0          0          0  ...   \n",
      "2            0          0          0          0          0          0  ...   \n",
      "3            0          0          0          0          0          0  ...   \n",
      "4            0          0          0          0          0          0  ...   \n",
      "..         ...        ...        ...        ...        ...        ...  ...   \n",
      "243          0          0          0          0          0          0  ...   \n",
      "244          0          0          0          0          0          0  ...   \n",
      "245          0          0          0          0          0          0  ...   \n",
      "246          0          0          0          0          0          0  ...   \n",
      "247          0          0          0          0          0          0  ...   \n",
      "\n",
      "     3/17/2020  3/18/2020  3/19/2020  3/20/2020  3/21/2020  3/22/2020  \\\n",
      "0            0          0          0          0          0          1   \n",
      "1            1          2          2          2          2          2   \n",
      "2            4          7          9         11         15         17   \n",
      "3            0          0          0          0          0          1   \n",
      "4            0          0          0          0          0          0   \n",
      "..         ...        ...        ...        ...        ...        ...   \n",
      "243          0          0          0          0          0          0   \n",
      "244          0          0          0          0          0          0   \n",
      "245          0          0          0          0          0          0   \n",
      "246          0          0          0          0          0          0   \n",
      "247          0          0          0          0          0          0   \n",
      "\n",
      "     3/23/2020  3/24/2020  3/25/2020  3/26/2020  \n",
      "0            1          1          2          4  \n",
      "1            4          5          5          6  \n",
      "2           17         19         21         25  \n",
      "3            1          1          1          3  \n",
      "4            0          0          0          0  \n",
      "..         ...        ...        ...        ...  \n",
      "243          0          0          0          0  \n",
      "244          0          0          0          0  \n",
      "245          0          0          0          0  \n",
      "246          0          0          0          0  \n",
      "247          0          0          0          1  \n",
      "\n",
      "[248 rows x 69 columns]\n"
     ]
    }
   ],
   "source": [
    "df2=pd.read_csv(r'C:\\Users\\91952\\Downloads\\time_series_covid19_deaths.xlsx - time_series_covid19_deaths.csv')\n",
    "print(df2)"
   ]
  },
  {
   "cell_type": "code",
   "execution_count": 51,
   "metadata": {},
   "outputs": [
    {
     "name": "stdout",
     "output_type": "stream",
     "text": [
      "          3/26/2020\n",
      "Lat                \n",
      "-41.4545          0\n",
      "-40.9006          0\n",
      "-38.4161          9\n",
      "-37.8136          3\n",
      "-35.6751          4\n",
      "...             ...\n",
      " 64.0000          5\n",
      " 64.2823          0\n",
      " 64.8255          0\n",
      " 64.9631          2\n",
      " 71.7069          0\n",
      "\n",
      "[239 rows x 1 columns]\n"
     ]
    }
   ],
   "source": [
    "df_totaldeaths=df2.groupby(\"Lat\")[[\"3/26/2020\"]].sum()\n",
    "print(df_totaldeaths)"
   ]
  },
  {
   "cell_type": "code",
   "execution_count": 52,
   "metadata": {},
   "outputs": [
    {
     "name": "stdout",
     "output_type": "stream",
     "text": [
      "          3/26/2020\n",
      "Lat                \n",
      "-41.4545          0\n",
      "-40.9006          0\n",
      "-38.4161          9\n",
      "-37.8136          3\n",
      "-35.6751          4\n",
      "...             ...\n",
      " 64.0000          5\n",
      " 64.2823          0\n",
      " 64.8255          0\n",
      " 64.9631          2\n",
      " 71.7069          0\n",
      "\n",
      "[239 rows x 1 columns]\n"
     ]
    }
   ],
   "source": [
    "df_sorteddeaths=df_totaldeaths.sort_values(\"Lat\",ascending=True)\n",
    "print(df_sorteddeaths)"
   ]
  },
  {
   "cell_type": "code",
   "execution_count": 69,
   "metadata": {},
   "outputs": [
    {
     "data": {
      "text/plain": [
       "[<matplotlib.lines.Line2D at 0x1b8d4320c08>]"
      ]
     },
     "execution_count": 69,
     "metadata": {},
     "output_type": "execute_result"
    },
    {
     "data": {
      "image/png": "[encoded data removed]",
      "text/plain": [
       "<Figure size 432x288 with 1 Axes>"
      ]
     },
     "metadata": {
      "needs_background": "light"
     },
     "output_type": "display_data"
    }
   ],
   "source": [
    "plt.axes()\n",
    "plt.xlim([-90,90])\n",
    "plt.ylim([0,100000])\n",
    "plt.yticks(np.arange(0,100000,20000))\n",
    "plt.xticks(np.arange(-90, 90,10))\n",
    "plt.title(\"Deaths around the world in a single day\")\n",
    "plt.xlabel(\"Lattitude\")\n",
    "plt.ylabel(\"3/26/2020\")\n",
    "plt.plot(df_sorteddeaths,color='red')"
   ]
  },
  {
   "cell_type": "code",
   "execution_count": 71,
   "metadata": {},
   "outputs": [
    {
     "name": "stdout",
     "output_type": "stream",
     "text": [
      "           3/26/2020\n",
      "Long                \n",
      "-135.0000          0\n",
      "-124.8457          0\n",
      "-123.1207         14\n",
      "-122.6655          0\n",
      "-116.5765          2\n",
      "...              ...\n",
      " 151.2093          7\n",
      " 153.4000          1\n",
      " 165.6180          0\n",
      " 174.8860          0\n",
      " 178.0650          0\n",
      "\n",
      "[242 rows x 1 columns]\n",
      "           3/26/2020\n",
      "Long                \n",
      "-135.0000          0\n",
      "-124.8457          0\n",
      "-123.1207         14\n",
      "-122.6655          0\n",
      "-116.5765          2\n",
      "...              ...\n",
      " 151.2093          7\n",
      " 153.4000          1\n",
      " 165.6180          0\n",
      " 174.8860          0\n",
      " 178.0650          0\n",
      "\n",
      "[242 rows x 1 columns]\n"
     ]
    },
    {
     "data": {
      "text/plain": [
       "[<matplotlib.lines.Line2D at 0x1b8d5a1fbc8>]"
      ]
     },
     "execution_count": 71,
     "metadata": {},
     "output_type": "execute_result"
    },
    {
     "data": {
      "image/png": "[encoded data removed]",
      "text/plain": [
       "<Figure size 432x288 with 1 Axes>"
      ]
     },
     "metadata": {
      "needs_background": "light"
     },
     "output_type": "display_data"
    }
   ],
   "source": [
    "df_totaldeaths2=df2.groupby(\"Long\")[[\"3/26/2020\"]].sum()\n",
    "print(df_totaldeaths2)\n",
    "df_sorteddeaths2=df_totaldeaths2.sort_values(\"Long\",ascending=True)\n",
    "print(df_sorteddeaths2)\n",
    "plt.axes()\n",
    "plt.xlim([-180,180])\n",
    "plt.ylim([0,100000])\n",
    "plt.yticks(np.arange(0,100000,20000))\n",
    "plt.xticks(np.arange(-180, 180,60))\n",
    "plt.title(\"Deaths around the world in a single day\")\n",
    "plt.xlabel(\"Longitude\")\n",
    "plt.ylabel(\"3/26/2020\")\n",
    "plt.plot(df_sorteddeaths2,color='red')"
   ]
  },
  {
   "cell_type": "code",
   "execution_count": 72,
   "metadata": {},
   "outputs": [
    {
     "name": "stdout",
     "output_type": "stream",
     "text": [
      "    Province/State      Country/Region        Lat        Long  1/22/2020  \\\n",
      "0              NaN         Afghanistan  33.000000   65.000000          0   \n",
      "1              NaN             Albania  41.153300   20.168300          0   \n",
      "2              NaN             Algeria  28.033900    1.659600          0   \n",
      "3              NaN             Andorra  42.506300    1.521800          0   \n",
      "4              NaN              Angola -11.202700   17.873900          0   \n",
      "..             ...                 ...        ...         ...        ...   \n",
      "229            NaN              Zambia -15.416700   28.283300          0   \n",
      "230            NaN            Zimbabwe -20.000000   30.000000          0   \n",
      "231            NaN  West Bank and Gaza  31.952200   35.233200          0   \n",
      "232            NaN                Laos  19.856270  102.495496          0   \n",
      "233            NaN              Kosovo  42.602636   20.902977          0   \n",
      "\n",
      "     1/23/2020  1/24/2020  1/25/2020  1/26/2020  1/27/2020  ...  3/17/2020  \\\n",
      "0            0          0          0          0          0  ...          1   \n",
      "1            0          0          0          0          0  ...          0   \n",
      "2            0          0          0          0          0  ...         12   \n",
      "3            0          0          0          0          0  ...          1   \n",
      "4            0          0          0          0          0  ...          0   \n",
      "..         ...        ...        ...        ...        ...  ...        ...   \n",
      "229          0          0          0          0          0  ...          0   \n",
      "230          0          0          0          0          0  ...          0   \n",
      "231          0          0          0          0          0  ...          0   \n",
      "232          0          0          0          0          0  ...          0   \n",
      "233          0          0          0          0          0  ...          0   \n",
      "\n",
      "     3/18/2020  3/19/2020  3/20/2020  3/21/2020  3/22/2020  3/23/2020  \\\n",
      "0            1          1          1          1          1          1   \n",
      "1            0          0          0          2          2          2   \n",
      "2           12         32         32         32         65         65   \n",
      "3            1          1          1          1          1          1   \n",
      "4            0          0          0          0          0          0   \n",
      "..         ...        ...        ...        ...        ...        ...   \n",
      "229          0          0          0          0          0          0   \n",
      "230          0          0          0          0          0          0   \n",
      "231          0          0         17         17         17         17   \n",
      "232          0          0          0          0          0          0   \n",
      "233          0          0          0          0          0          0   \n",
      "\n",
      "     3/24/2020  3/25/2020  3/26/2020  \n",
      "0            1          2          2  \n",
      "1           10         17         17  \n",
      "2           24         65         29  \n",
      "3            1          1          1  \n",
      "4            0          0          0  \n",
      "..         ...        ...        ...  \n",
      "229          0          0          0  \n",
      "230          0          0          0  \n",
      "231         17         17         17  \n",
      "232          0          0          0  \n",
      "233          0          0          0  \n",
      "\n",
      "[234 rows x 69 columns]\n"
     ]
    }
   ],
   "source": [
    "df3=pd.read_csv(r'C:\\Users\\91952\\Downloads\\time_series_covid19_recovered.xlsx - time_series_covid19_recovered.csv')\n",
    "print(df3)\n"
   ]
  },
  {
   "cell_type": "code",
   "execution_count": 73,
   "metadata": {},
   "outputs": [
    {
     "name": "stdout",
     "output_type": "stream",
     "text": [
      "          3/26/2020\n",
      "Lat                \n",
      "-41.4545          3\n",
      "-40.9006         27\n",
      "-38.4161         63\n",
      "-37.8136        149\n",
      "-35.6751         22\n",
      "...             ...\n",
      " 61.8926         47\n",
      " 63.0000         16\n",
      " 64.0000         10\n",
      " 64.9631         82\n",
      " 71.7069          2\n",
      "\n",
      "[228 rows x 1 columns]\n"
     ]
    }
   ],
   "source": [
    "df_total3=df3.groupby(\"Lat\")[[\"3/26/2020\"]].sum()\n",
    "print(df_total3)"
   ]
  },
  {
   "cell_type": "code",
   "execution_count": 74,
   "metadata": {},
   "outputs": [
    {
     "name": "stdout",
     "output_type": "stream",
     "text": [
      "          3/26/2020\n",
      "Lat                \n",
      "-41.4545          3\n",
      "-40.9006         27\n",
      "-38.4161         63\n",
      "-37.8136        149\n",
      "-35.6751         22\n",
      "...             ...\n",
      " 61.8926         47\n",
      " 63.0000         16\n",
      " 64.0000         10\n",
      " 64.9631         82\n",
      " 71.7069          2\n",
      "\n",
      "[228 rows x 1 columns]\n"
     ]
    }
   ],
   "source": [
    "df_sorted3=df_total3.sort_values(\"Lat\",ascending=True)\n",
    "print(df_sorted3)"
   ]
  },
  {
   "cell_type": "code",
   "execution_count": 75,
   "metadata": {},
   "outputs": [
    {
     "data": {
      "text/plain": [
       "[<matplotlib.lines.Line2D at 0x1b8d589e648>]"
      ]
     },
     "execution_count": 75,
     "metadata": {},
     "output_type": "execute_result"
    },
    {
     "data": {
      "image/png": "[encoded data removed]",
      "text/plain": [
       "<Figure size 432x288 with 1 Axes>"
      ]
     },
     "metadata": {
      "needs_background": "light"
     },
     "output_type": "display_data"
    }
   ],
   "source": [
    "plt.axes()\n",
    "plt.xlim([-90,90])\n",
    "plt.ylim([0,100000])\n",
    "plt.yticks(np.arange(0,100000,20000))\n",
    "plt.xticks(np.arange(-90, 90,10))\n",
    "plt.title(\"Recovered around the world in a single day\")\n",
    "plt.xlabel(\"Lattitude\")\n",
    "plt.ylabel(\"3/26/2020\")\n",
    "plt.plot(df_sorted3,color='green')"
   ]
  },
  {
   "cell_type": "code",
   "execution_count": 78,
   "metadata": {},
   "outputs": [
    {
     "name": "stdout",
     "output_type": "stream",
     "text": [
      "           3/26/2020\n",
      "Long                \n",
      "-106.3468        184\n",
      "-102.5528          4\n",
      "-95.7129         681\n",
      "-90.2308           4\n",
      "-88.8965           0\n",
      "...              ...\n",
      " 151.2093          4\n",
      " 153.4000          8\n",
      " 165.6180          0\n",
      " 174.8860         27\n",
      " 178.0650          0\n",
      "\n",
      "[230 rows x 1 columns]\n",
      "           3/26/2020\n",
      "Long                \n",
      "-106.3468        184\n",
      "-102.5528          4\n",
      "-95.7129         681\n",
      "-90.2308           4\n",
      "-88.8965           0\n",
      "...              ...\n",
      " 151.2093          4\n",
      " 153.4000          8\n",
      " 165.6180          0\n",
      " 174.8860         27\n",
      " 178.0650          0\n",
      "\n",
      "[230 rows x 1 columns]\n"
     ]
    },
    {
     "data": {
      "text/plain": [
       "[<matplotlib.lines.Line2D at 0x1b8d5f5a1c8>]"
      ]
     },
     "execution_count": 78,
     "metadata": {},
     "output_type": "execute_result"
    },
    {
     "data": {
      "image/png": "[encoded data removed]",
      "text/plain": [
       "<Figure size 432x288 with 1 Axes>"
      ]
     },
     "metadata": {
      "needs_background": "light"
     },
     "output_type": "display_data"
    }
   ],
   "source": [
    "df_total4=df3.groupby(\"Long\")[[\"3/26/2020\"]].sum()\n",
    "print(df_total4)\n",
    "df_sorted4=df_total4.sort_values(\"Long\",ascending=True)\n",
    "print(df_sorted4)\n",
    "plt.axes()\n",
    "plt.xlim([-180,180])\n",
    "plt.ylim([0,100000])\n",
    "plt.yticks(np.arange(0,100000,20000))\n",
    "plt.xticks(np.arange(-180, 180,60))\n",
    "plt.title(\"Recovered case around the world in a single day\")\n",
    "plt.xlabel(\"Longitude\")\n",
    "plt.ylabel(\"3/26/2020\")\n",
    "plt.plot(df_sorted4,color='green')"
   ]
  },
  {
   "cell_type": "code",
   "execution_count": null,
   "metadata": {},
   "outputs": [],
   "source": []
  }
 ],
 "metadata": {
  "kernelspec": {
   "display_name": "Python 3",
   "language": "python",
   "name": "python3"
  },
  "language_info": {
   "codemirror_mode": {
    "name": "ipython",
    "version": 3
   },
   "file_extension": ".py",
   "mimetype": "text/x-python",
   "name": "python",
   "nbconvert_exporter": "python",
   "pygments_lexer": "ipython3",
   "version": "3.7.6"
  }
 },
 "nbformat": 4,
 "nbformat_minor": 4
}
