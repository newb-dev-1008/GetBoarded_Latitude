{
  "nbformat": 4,
  "nbformat_minor": 0,
  "metadata": {
    "colab": {
      "name": "GetBoarded CoVID across Latitudes.ipynb",
      "provenance": [],
      "authorship_tag": "ABX9TyO8hfpfnbEsyGsdRTuXnyuA",
      "include_colab_link": true
    },
    "kernelspec": {
      "name": "python3",
      "display_name": "Python 3"
    }
  },
  "cells": [
    {
      "cell_type": "markdown",
      "metadata": {
        "id": "view-in-github",
        "colab_type": "text"
      },
      "source": [
        "<a href=\"https://colab.research.google.com/github/newb-dev-1008/GetBoarded_Latitude/blob/ipython/GetBoarded_CoVID_across_Latitudes.ipynb\" target=\"_parent\"><img src=\"https://colab.research.google.com/assets/colab-badge.svg\" alt=\"Open In Colab\"/></a>"
      ]
    },
    {
      "cell_type": "markdown",
      "metadata": {
        "id": "ACdXlCq5QS5q",
        "colab_type": "text"
      },
      "source": [
        "# **Project to find the correlation between latitudes and the spread of CoVID-19**\n",
        "\n",
        "**Objectives/ guidelines to keep in mind:**\n",
        "\n",
        "*   Segregate all data region-wise\n",
        "*   Replace the regions column with the corresponding latitudes from the latitudes dataset\n",
        "*   Visually determine the rates of growth in cases in the most-hit and the least-hit regions\n",
        "*   Predict the growth of cases and check if latitudes and growth are correlated; whether latitudes behave as a deciding factor in prediction\n",
        "\n",
        "**IMPORTANT: Remember to add the CSV files everytime you log in to the notebook. The CSV files are kept in the GitHub repository; you can save them to your respective devices and upload them whenever you work.**\n",
        "\n",
        "**Directions for saving:**\n",
        "\n",
        "- Go to File - Save a copy on GitHub.\n",
        "- Select the repository and the branch \"ipython\".\n",
        "- **Do not change the name of the Colab notebook while saving.**\n",
        "\n",
        "Also, try to create a text cell to note the variable names with their specifications wherever possible. It'll be helpful for all teammates.\n",
        "\n",
        "\n",
        "\n"
      ]
    },
    {
      "cell_type": "code",
      "metadata": {
        "id": "s5zzYpmiQL6M",
        "colab_type": "code",
        "colab": {}
      },
      "source": [
        "import pandas as pd\n",
        "\n",
        "latitudes = pd.read_csv('latitudes.csv')\n",
        "covid_data = pd.read_csv('covid_19_data.csv')"
      ],
      "execution_count": 0,
      "outputs": []
    },
    {
      "cell_type": "code",
      "metadata": {
        "id": "49MKoGTEU_Jf",
        "colab_type": "code",
        "outputId": "5fdf159a-794a-40a8-8c81-9fc339386bc3",
        "colab": {
          "base_uri": "https://localhost:8080/",
          "height": 195
        }
      },
      "source": [
        "latitudes_countries = latitudes.iloc[:, :4]\n",
        "latitudes_countries.head()"
      ],
      "execution_count": 4,
      "outputs": [
        {
          "output_type": "execute_result",
          "data": {
            "text/html": [
              "<div>\n",
              "<style scoped>\n",
              "    .dataframe tbody tr th:only-of-type {\n",
              "        vertical-align: middle;\n",
              "    }\n",
              "\n",
              "    .dataframe tbody tr th {\n",
              "        vertical-align: top;\n",
              "    }\n",
              "\n",
              "    .dataframe thead th {\n",
              "        text-align: right;\n",
              "    }\n",
              "</style>\n",
              "<table border=\"1\" class=\"dataframe\">\n",
              "  <thead>\n",
              "    <tr style=\"text-align: right;\">\n",
              "      <th></th>\n",
              "      <th>country_code</th>\n",
              "      <th>latitude</th>\n",
              "      <th>longitude</th>\n",
              "      <th>country</th>\n",
              "    </tr>\n",
              "  </thead>\n",
              "  <tbody>\n",
              "    <tr>\n",
              "      <th>0</th>\n",
              "      <td>AD</td>\n",
              "      <td>42.546245</td>\n",
              "      <td>1.601554</td>\n",
              "      <td>Andorra</td>\n",
              "    </tr>\n",
              "    <tr>\n",
              "      <th>1</th>\n",
              "      <td>AE</td>\n",
              "      <td>23.424076</td>\n",
              "      <td>53.847818</td>\n",
              "      <td>United Arab Emirates</td>\n",
              "    </tr>\n",
              "    <tr>\n",
              "      <th>2</th>\n",
              "      <td>AF</td>\n",
              "      <td>33.939110</td>\n",
              "      <td>67.709953</td>\n",
              "      <td>Afghanistan</td>\n",
              "    </tr>\n",
              "    <tr>\n",
              "      <th>3</th>\n",
              "      <td>AG</td>\n",
              "      <td>17.060816</td>\n",
              "      <td>-61.796428</td>\n",
              "      <td>Antigua and Barbuda</td>\n",
              "    </tr>\n",
              "    <tr>\n",
              "      <th>4</th>\n",
              "      <td>AI</td>\n",
              "      <td>18.220554</td>\n",
              "      <td>-63.068615</td>\n",
              "      <td>Anguilla</td>\n",
              "    </tr>\n",
              "  </tbody>\n",
              "</table>\n",
              "</div>"
            ],
            "text/plain": [
              "  country_code   latitude  longitude               country\n",
              "0           AD  42.546245   1.601554               Andorra\n",
              "1           AE  23.424076  53.847818  United Arab Emirates\n",
              "2           AF  33.939110  67.709953           Afghanistan\n",
              "3           AG  17.060816 -61.796428   Antigua and Barbuda\n",
              "4           AI  18.220554 -63.068615              Anguilla"
            ]
          },
          "metadata": {
            "tags": []
          },
          "execution_count": 4
        }
      ]
    },
    {
      "cell_type": "code",
      "metadata": {
        "id": "F-8qgZ4pVFjD",
        "colab_type": "code",
        "outputId": "c81693b0-5792-4b6d-b773-84aa362ca228",
        "colab": {
          "base_uri": "https://localhost:8080/",
          "height": 195
        }
      },
      "source": [
        "covid_data.head()"
      ],
      "execution_count": 5,
      "outputs": [
        {
          "output_type": "execute_result",
          "data": {
            "text/html": [
              "<div>\n",
              "<style scoped>\n",
              "    .dataframe tbody tr th:only-of-type {\n",
              "        vertical-align: middle;\n",
              "    }\n",
              "\n",
              "    .dataframe tbody tr th {\n",
              "        vertical-align: top;\n",
              "    }\n",
              "\n",
              "    .dataframe thead th {\n",
              "        text-align: right;\n",
              "    }\n",
              "</style>\n",
              "<table border=\"1\" class=\"dataframe\">\n",
              "  <thead>\n",
              "    <tr style=\"text-align: right;\">\n",
              "      <th></th>\n",
              "      <th>SNo</th>\n",
              "      <th>ObservationDate</th>\n",
              "      <th>Province/State</th>\n",
              "      <th>Country/Region</th>\n",
              "      <th>Last Update</th>\n",
              "      <th>Confirmed</th>\n",
              "      <th>Deaths</th>\n",
              "      <th>Recovered</th>\n",
              "    </tr>\n",
              "  </thead>\n",
              "  <tbody>\n",
              "    <tr>\n",
              "      <th>0</th>\n",
              "      <td>1</td>\n",
              "      <td>01/22/2020</td>\n",
              "      <td>Anhui</td>\n",
              "      <td>Mainland China</td>\n",
              "      <td>1/22/2020 17:00</td>\n",
              "      <td>1.0</td>\n",
              "      <td>0.0</td>\n",
              "      <td>0.0</td>\n",
              "    </tr>\n",
              "    <tr>\n",
              "      <th>1</th>\n",
              "      <td>2</td>\n",
              "      <td>01/22/2020</td>\n",
              "      <td>Beijing</td>\n",
              "      <td>Mainland China</td>\n",
              "      <td>1/22/2020 17:00</td>\n",
              "      <td>14.0</td>\n",
              "      <td>0.0</td>\n",
              "      <td>0.0</td>\n",
              "    </tr>\n",
              "    <tr>\n",
              "      <th>2</th>\n",
              "      <td>3</td>\n",
              "      <td>01/22/2020</td>\n",
              "      <td>Chongqing</td>\n",
              "      <td>Mainland China</td>\n",
              "      <td>1/22/2020 17:00</td>\n",
              "      <td>6.0</td>\n",
              "      <td>0.0</td>\n",
              "      <td>0.0</td>\n",
              "    </tr>\n",
              "    <tr>\n",
              "      <th>3</th>\n",
              "      <td>4</td>\n",
              "      <td>01/22/2020</td>\n",
              "      <td>Fujian</td>\n",
              "      <td>Mainland China</td>\n",
              "      <td>1/22/2020 17:00</td>\n",
              "      <td>1.0</td>\n",
              "      <td>0.0</td>\n",
              "      <td>0.0</td>\n",
              "    </tr>\n",
              "    <tr>\n",
              "      <th>4</th>\n",
              "      <td>5</td>\n",
              "      <td>01/22/2020</td>\n",
              "      <td>Gansu</td>\n",
              "      <td>Mainland China</td>\n",
              "      <td>1/22/2020 17:00</td>\n",
              "      <td>0.0</td>\n",
              "      <td>0.0</td>\n",
              "      <td>0.0</td>\n",
              "    </tr>\n",
              "  </tbody>\n",
              "</table>\n",
              "</div>"
            ],
            "text/plain": [
              "   SNo ObservationDate Province/State  ... Confirmed Deaths  Recovered\n",
              "0    1      01/22/2020          Anhui  ...       1.0    0.0        0.0\n",
              "1    2      01/22/2020        Beijing  ...      14.0    0.0        0.0\n",
              "2    3      01/22/2020      Chongqing  ...       6.0    0.0        0.0\n",
              "3    4      01/22/2020         Fujian  ...       1.0    0.0        0.0\n",
              "4    5      01/22/2020          Gansu  ...       0.0    0.0        0.0\n",
              "\n",
              "[5 rows x 8 columns]"
            ]
          },
          "metadata": {
            "tags": []
          },
          "execution_count": 5
        }
      ]
    },
    {
      "cell_type": "markdown",
      "metadata": {
        "id": "m8DWgDYSu5tl",
        "colab_type": "text"
      },
      "source": [
        "**Finding all countries listed in the Country/ Region column of CoVID Dataset:**"
      ]
    },
    {
      "cell_type": "code",
      "metadata": {
        "id": "uzlr13R3u_xx",
        "colab_type": "code",
        "outputId": "aa96d88f-2427-4997-ce74-781fb4aa9000",
        "colab": {
          "base_uri": "https://localhost:8080/",
          "height": 34
        }
      },
      "source": [
        "covid_data['Country/Region'].unique()   #Returns all unique labels contained in the column\n",
        "covid_data['Country/Region'].nunique()   #Returns number of unique labels contained in the column"
      ],
      "execution_count": 6,
      "outputs": [
        {
          "output_type": "execute_result",
          "data": {
            "text/plain": [
              "219"
            ]
          },
          "metadata": {
            "tags": []
          },
          "execution_count": 6
        }
      ]
    },
    {
      "cell_type": "markdown",
      "metadata": {
        "id": "GBbPbGzbvDds",
        "colab_type": "text"
      },
      "source": [
        "**Similarly, finding all countries listed under the 'Country' column of the latitudes dataset**"
      ]
    },
    {
      "cell_type": "code",
      "metadata": {
        "id": "rv1nI3gWvHmo",
        "colab_type": "code",
        "outputId": "3107cc69-9bed-4194-8e33-71bf68a585d0",
        "colab": {
          "base_uri": "https://localhost:8080/",
          "height": 34
        }
      },
      "source": [
        "latitudes_countries['country'].unique()\n",
        "latitudes_countries['country'].nunique()"
      ],
      "execution_count": 7,
      "outputs": [
        {
          "output_type": "execute_result",
          "data": {
            "text/plain": [
              "245"
            ]
          },
          "metadata": {
            "tags": []
          },
          "execution_count": 7
        }
      ]
    },
    {
      "cell_type": "markdown",
      "metadata": {
        "id": "Mb06xhSUvMI3",
        "colab_type": "text"
      },
      "source": [
        "# **We Observe:**\n",
        "- China is called \"Mainland China\" in the CoVID-19 Dataset\n",
        "- The number of countries in the latitude dataset is more; the countries present in both datasets need to be replaced with their corresponding latitudes\n",
        "\n",
        "Hence, we need to:\n",
        "- Check for extra countries in either dataset\n",
        "- Merge those countries with bigger countries manually (ex: if one dataset calls it US while the other calls it United States, both need to be merged into one label and so on)\n",
        "- Discard redundant countries/ countries with zero cases"
      ]
    },
    {
      "cell_type": "code",
      "metadata": {
        "id": "Ok1pRV67vWTI",
        "colab_type": "code",
        "outputId": "5b70fd7c-364b-4a4c-fd6d-8b7a625cace8",
        "colab": {
          "base_uri": "https://localhost:8080/",
          "height": 958
        }
      },
      "source": [
        "latitudes_countries['country'].unique()"
      ],
      "execution_count": 8,
      "outputs": [
        {
          "output_type": "execute_result",
          "data": {
            "text/plain": [
              "array(['Andorra', 'United Arab Emirates', 'Afghanistan',\n",
              "       'Antigua and Barbuda', 'Anguilla', 'Albania', 'Armenia',\n",
              "       'Netherlands Antilles', 'Angola', 'Antarctica', 'Argentina',\n",
              "       'American Samoa', 'Austria', 'Australia', 'Aruba', 'Azerbaijan',\n",
              "       'Bosnia and Herzegovina', 'Barbados', 'Bangladesh', 'Belgium',\n",
              "       'Burkina Faso', 'Bulgaria', 'Bahrain', 'Burundi', 'Benin',\n",
              "       'Bermuda', 'Brunei', 'Bolivia', 'Brazil', 'Bahamas', 'Bhutan',\n",
              "       'Bouvet Island', 'Botswana', 'Belarus', 'Belize', 'Canada',\n",
              "       'Cocos [Keeling] Islands', 'Congo [DRC]',\n",
              "       'Central African Republic', 'Congo [Republic]', 'Switzerland',\n",
              "       \"Côte d'Ivoire\", 'Cook Islands', 'Chile', 'Cameroon', 'China',\n",
              "       'Colombia', 'Costa Rica', 'Cuba', 'Cape Verde', 'Christmas Island',\n",
              "       'Cyprus', 'Czech Republic', 'Germany', 'Djibouti', 'Denmark',\n",
              "       'Dominica', 'Dominican Republic', 'Algeria', 'Ecuador', 'Estonia',\n",
              "       'Egypt', 'Western Sahara', 'Eritrea', 'Spain', 'Ethiopia',\n",
              "       'Finland', 'Fiji', 'Falkland Islands [Islas Malvinas]',\n",
              "       'Micronesia', 'Faroe Islands', 'France', 'Gabon', 'United Kingdom',\n",
              "       'Grenada', 'Georgia', 'French Guiana', 'Guernsey', 'Ghana',\n",
              "       'Gibraltar', 'Greenland', 'Gambia', 'Guinea', 'Guadeloupe',\n",
              "       'Equatorial Guinea', 'Greece',\n",
              "       'South Georgia and the South Sandwich Islands', 'Guatemala',\n",
              "       'Guam', 'Guinea-Bissau', 'Guyana', 'Gaza Strip', 'Hong Kong',\n",
              "       'Heard Island and McDonald Islands', 'Honduras', 'Croatia',\n",
              "       'Haiti', 'Hungary', 'Indonesia', 'Ireland', 'Israel',\n",
              "       'Isle of Man', 'India', 'British Indian Ocean Territory', 'Iraq',\n",
              "       'Iran', 'Iceland', 'Italy', 'Jersey', 'Jamaica', 'Jordan', 'Japan',\n",
              "       'Kenya', 'Kyrgyzstan', 'Cambodia', 'Kiribati', 'Comoros',\n",
              "       'Saint Kitts and Nevis', 'North Korea', 'South Korea', 'Kuwait',\n",
              "       'Cayman Islands', 'Kazakhstan', 'Laos', 'Lebanon', 'Saint Lucia',\n",
              "       'Liechtenstein', 'Sri Lanka', 'Liberia', 'Lesotho', 'Lithuania',\n",
              "       'Luxembourg', 'Latvia', 'Libya', 'Morocco', 'Monaco', 'Moldova',\n",
              "       'Montenegro', 'Madagascar', 'Marshall Islands',\n",
              "       'Macedonia [FYROM]', 'Mali', 'Myanmar [Burma]', 'Mongolia',\n",
              "       'Macau', 'Northern Mariana Islands', 'Martinique', 'Mauritania',\n",
              "       'Montserrat', 'Malta', 'Mauritius', 'Maldives', 'Malawi', 'Mexico',\n",
              "       'Malaysia', 'Mozambique', 'Namibia', 'New Caledonia', 'Niger',\n",
              "       'Norfolk Island', 'Nigeria', 'Nicaragua', 'Netherlands', 'Norway',\n",
              "       'Nepal', 'Nauru', 'Niue', 'New Zealand', 'Oman', 'Panama', 'Peru',\n",
              "       'French Polynesia', 'Papua New Guinea', 'Philippines', 'Pakistan',\n",
              "       'Poland', 'Saint Pierre and Miquelon', 'Pitcairn Islands',\n",
              "       'Puerto Rico', 'Palestinian Territories', 'Portugal', 'Palau',\n",
              "       'Paraguay', 'Qatar', 'Réunion', 'Romania', 'Serbia', 'Russia',\n",
              "       'Rwanda', 'Saudi Arabia', 'Solomon Islands', 'Seychelles', 'Sudan',\n",
              "       'Sweden', 'Singapore', 'Saint Helena', 'Slovenia',\n",
              "       'Svalbard and Jan Mayen', 'Slovakia', 'Sierra Leone', 'San Marino',\n",
              "       'Senegal', 'Somalia', 'Suriname', 'São Tomé and Príncipe',\n",
              "       'El Salvador', 'Syria', 'Swaziland', 'Turks and Caicos Islands',\n",
              "       'Chad', 'French Southern Territories', 'Togo', 'Thailand',\n",
              "       'Tajikistan', 'Tokelau', 'Timor-Leste', 'Turkmenistan', 'Tunisia',\n",
              "       'Tonga', 'Turkey', 'Trinidad and Tobago', 'Tuvalu', 'Taiwan',\n",
              "       'Tanzania', 'Ukraine', 'Uganda', 'U.S. Minor Outlying Islands',\n",
              "       'United States', 'Uruguay', 'Uzbekistan', 'Vatican City',\n",
              "       'Saint Vincent and the Grenadines', 'Venezuela',\n",
              "       'British Virgin Islands', 'U.S. Virgin Islands', 'Vietnam',\n",
              "       'Vanuatu', 'Wallis and Futuna', 'Samoa', 'Kosovo', 'Yemen',\n",
              "       'Mayotte', 'South Africa', 'Zambia', 'Zimbabwe'], dtype=object)"
            ]
          },
          "metadata": {
            "tags": []
          },
          "execution_count": 8
        }
      ]
    },
    {
      "cell_type": "code",
      "metadata": {
        "id": "gy5BlJgFxyHg",
        "colab_type": "code",
        "outputId": "2b74ef65-aa68-4041-b51f-4b3fa7090904",
        "colab": {
          "base_uri": "https://localhost:8080/",
          "height": 806
        }
      },
      "source": [
        "covid_data['Country/Region'].unique()"
      ],
      "execution_count": 13,
      "outputs": [
        {
          "output_type": "execute_result",
          "data": {
            "text/plain": [
              "array(['Mainland China', 'Hong Kong', 'Macau', 'Taiwan', 'US', 'Japan',\n",
              "       'Thailand', 'South Korea', 'Singapore', 'Philippines', 'Malaysia',\n",
              "       'Vietnam', 'Australia', 'Mexico', 'Brazil', 'Colombia', 'France',\n",
              "       'Nepal', 'Canada', 'Cambodia', 'Sri Lanka', 'Ivory Coast',\n",
              "       'Germany', 'Finland', 'United Arab Emirates', 'India', 'Italy',\n",
              "       'UK', 'Russia', 'Sweden', 'Spain', 'Belgium', 'Others', 'Egypt',\n",
              "       'Iran', 'Israel', 'Lebanon', 'Iraq', 'Oman', 'Afghanistan',\n",
              "       'Bahrain', 'Kuwait', 'Austria', 'Algeria', 'Croatia',\n",
              "       'Switzerland', 'Pakistan', 'Georgia', 'Greece', 'North Macedonia',\n",
              "       'Norway', 'Romania', 'Denmark', 'Estonia', 'Netherlands',\n",
              "       'San Marino', ' Azerbaijan', 'Belarus', 'Iceland', 'Lithuania',\n",
              "       'New Zealand', 'Nigeria', 'North Ireland', 'Ireland', 'Luxembourg',\n",
              "       'Monaco', 'Qatar', 'Ecuador', 'Azerbaijan', 'Czech Republic',\n",
              "       'Armenia', 'Dominican Republic', 'Indonesia', 'Portugal',\n",
              "       'Andorra', 'Latvia', 'Morocco', 'Saudi Arabia', 'Senegal',\n",
              "       'Argentina', 'Chile', 'Jordan', 'Ukraine', 'Saint Barthelemy',\n",
              "       'Hungary', 'Faroe Islands', 'Gibraltar', 'Liechtenstein', 'Poland',\n",
              "       'Tunisia', 'Palestine', 'Bosnia and Herzegovina', 'Slovenia',\n",
              "       'South Africa', 'Bhutan', 'Cameroon', 'Costa Rica', 'Peru',\n",
              "       'Serbia', 'Slovakia', 'Togo', 'Vatican City', 'French Guiana',\n",
              "       'Malta', 'Martinique', 'Republic of Ireland', 'Bulgaria',\n",
              "       'Maldives', 'Bangladesh', 'Moldova', 'Paraguay', 'Albania',\n",
              "       'Cyprus', 'St. Martin', 'Brunei', 'occupied Palestinian territory',\n",
              "       \"('St. Martin',)\", 'Burkina Faso', 'Channel Islands', 'Holy See',\n",
              "       'Mongolia', 'Panama', 'Bolivia', 'Honduras', 'Congo (Kinshasa)',\n",
              "       'Jamaica', 'Reunion', 'Turkey', 'Cuba', 'Guyana', 'Kazakhstan',\n",
              "       'Cayman Islands', 'Guadeloupe', 'Ethiopia', 'Sudan', 'Guinea',\n",
              "       'Antigua and Barbuda', 'Aruba', 'Kenya', 'Uruguay', 'Ghana',\n",
              "       'Jersey', 'Namibia', 'Seychelles', 'Trinidad and Tobago',\n",
              "       'Venezuela', 'Curacao', 'Eswatini', 'Gabon', 'Guatemala',\n",
              "       'Guernsey', 'Mauritania', 'Rwanda', 'Saint Lucia',\n",
              "       'Saint Vincent and the Grenadines', 'Suriname', 'Kosovo',\n",
              "       'Central African Republic', 'Congo (Brazzaville)',\n",
              "       'Equatorial Guinea', 'Uzbekistan', 'Guam', 'Puerto Rico', 'Benin',\n",
              "       'Greenland', 'Liberia', 'Mayotte', 'Republic of the Congo',\n",
              "       'Somalia', 'Tanzania', 'The Bahamas', 'Barbados', 'Montenegro',\n",
              "       'The Gambia', 'Kyrgyzstan', 'Mauritius', 'Zambia', 'Djibouti',\n",
              "       'Gambia, The', 'Bahamas, The', 'Chad', 'El Salvador', 'Fiji',\n",
              "       'Nicaragua', 'Madagascar', 'Haiti', 'Angola', 'Cabo Verde',\n",
              "       'Niger', 'Papua New Guinea', 'Zimbabwe', 'Cape Verde',\n",
              "       'East Timor', 'Eritrea', 'Uganda', 'Bahamas', 'Dominica', 'Gambia',\n",
              "       'Grenada', 'Mozambique', 'Syria', 'Timor-Leste', 'Belize', 'Laos',\n",
              "       'Libya', 'Diamond Princess', 'Guinea-Bissau', 'Mali',\n",
              "       'Saint Kitts and Nevis', 'West Bank and Gaza', 'Burma',\n",
              "       'MS Zaandam', 'Botswana', 'Burundi', 'Sierra Leone', 'Malawi',\n",
              "       'South Sudan', 'Western Sahara', 'Sao Tome and Principe'],\n",
              "      dtype=object)"
            ]
          },
          "metadata": {
            "tags": []
          },
          "execution_count": 13
        }
      ]
    },
    {
      "cell_type": "code",
      "metadata": {
        "id": "IY-PcHLHzIcj",
        "colab_type": "code",
        "colab": {}
      },
      "source": [
        "#Define a function to seperate extra countries in both datasets\n",
        "import numpy as np\n",
        "\n",
        "def extra_countries(c1, c2):\n",
        "  extra_countries = []\n",
        "  for i in c1:\n",
        "    flag = 0\n",
        "    for j in c2:\n",
        "      if (i == j):\n",
        "        flag = 1\n",
        "    if (flag == 0):\n",
        "      extra_countries.append(i)\n",
        "  \n",
        "  return np.array(extra_countries)"
      ],
      "execution_count": 0,
      "outputs": []
    },
    {
      "cell_type": "code",
      "metadata": {
        "id": "fzFl725_05Sn",
        "colab_type": "code",
        "outputId": "cabedf14-5a42-4a2f-ea95-515e2e97518c",
        "colab": {
          "base_uri": "https://localhost:8080/",
          "height": 336
        }
      },
      "source": [
        "#Finding countries that are in latitudes.csv but not in covid_19_data.csv\n",
        "\n",
        "extra_countries(latitudes_countries['country'].unique(), covid_data['Country/Region'].unique())"
      ],
      "execution_count": 15,
      "outputs": [
        {
          "output_type": "execute_result",
          "data": {
            "text/plain": [
              "array(['Anguilla', 'Netherlands Antilles', 'Antarctica', 'American Samoa',\n",
              "       'Bermuda', 'Bouvet Island', 'Cocos [Keeling] Islands',\n",
              "       'Congo [DRC]', 'Congo [Republic]', \"Côte d'Ivoire\", 'Cook Islands',\n",
              "       'China', 'Christmas Island', 'Falkland Islands [Islas Malvinas]',\n",
              "       'Micronesia', 'United Kingdom',\n",
              "       'South Georgia and the South Sandwich Islands', 'Gaza Strip',\n",
              "       'Heard Island and McDonald Islands', 'Isle of Man',\n",
              "       'British Indian Ocean Territory', 'Kiribati', 'Comoros',\n",
              "       'North Korea', 'Lesotho', 'Marshall Islands', 'Macedonia [FYROM]',\n",
              "       'Myanmar [Burma]', 'Northern Mariana Islands', 'Montserrat',\n",
              "       'New Caledonia', 'Norfolk Island', 'Nauru', 'Niue',\n",
              "       'French Polynesia', 'Saint Pierre and Miquelon',\n",
              "       'Pitcairn Islands', 'Palestinian Territories', 'Palau', 'Réunion',\n",
              "       'Solomon Islands', 'Saint Helena', 'Svalbard and Jan Mayen',\n",
              "       'São Tomé and Príncipe', 'Swaziland', 'Turks and Caicos Islands',\n",
              "       'French Southern Territories', 'Tajikistan', 'Tokelau',\n",
              "       'Turkmenistan', 'Tonga', 'Tuvalu', 'U.S. Minor Outlying Islands',\n",
              "       'United States', 'British Virgin Islands', 'U.S. Virgin Islands',\n",
              "       'Vanuatu', 'Wallis and Futuna', 'Samoa', 'Yemen'], dtype='<U44')"
            ]
          },
          "metadata": {
            "tags": []
          },
          "execution_count": 15
        }
      ]
    },
    {
      "cell_type": "code",
      "metadata": {
        "id": "_s3AknDS3tlV",
        "colab_type": "code",
        "outputId": "c7a0c70c-c859-4627-eee3-fd649b28e8da",
        "colab": {
          "base_uri": "https://localhost:8080/",
          "height": 185
        }
      },
      "source": [
        "#Finding countries that are in covid_19_data.csv but not in latitudes.csv\n",
        "\n",
        "extra_countries(covid_data['Country/Region'].unique(),latitudes_countries['country'].unique())"
      ],
      "execution_count": 16,
      "outputs": [
        {
          "output_type": "execute_result",
          "data": {
            "text/plain": [
              "array(['Mainland China', 'US', 'Ivory Coast', 'UK', 'Others',\n",
              "       'North Macedonia', ' Azerbaijan', 'North Ireland',\n",
              "       'Saint Barthelemy', 'Palestine', 'Republic of Ireland',\n",
              "       'St. Martin', 'occupied Palestinian territory', \"('St. Martin',)\",\n",
              "       'Channel Islands', 'Holy See', 'Congo (Kinshasa)', 'Reunion',\n",
              "       'Curacao', 'Eswatini', 'Congo (Brazzaville)',\n",
              "       'Republic of the Congo', 'The Bahamas', 'The Gambia',\n",
              "       'Gambia, The', 'Bahamas, The', 'Cabo Verde', 'East Timor',\n",
              "       'Diamond Princess', 'West Bank and Gaza', 'Burma', 'MS Zaandam',\n",
              "       'South Sudan', 'Sao Tome and Principe'], dtype='<U30')"
            ]
          },
          "metadata": {
            "tags": []
          },
          "execution_count": 16
        }
      ]
    },
    {
      "cell_type": "markdown",
      "metadata": {
        "id": "gmHrHLW06kjr",
        "colab_type": "text"
      },
      "source": [
        "**Replace country names in CoVID-19 dataset with matching names from Latitudes dataset**"
      ]
    },
    {
      "cell_type": "code",
      "metadata": {
        "id": "vW3K-xyV6xIx",
        "colab_type": "code",
        "colab": {}
      },
      "source": [
        "corrected_covid_data = covid_data.replace(['Mainland China', 'US', 'Ivory Coast', 'UK',\n",
        "       'North Macedonia', ' Azerbaijan', 'North Ireland',\n",
        "       'Republic of Ireland',\n",
        "       'Congo (Kinshasa)',\n",
        "       'Congo (Brazzaville)',\n",
        "       'Republic of the Congo', 'The Bahamas', 'The Gambia',\n",
        "       'Gambia, The', 'Bahamas, The',\n",
        "       'Diamond Princess', 'West Bank and Gaza', 'Burma',\n",
        "       'South Sudan'], ['China', 'United States', \"Côte d'Ivoire\", 'United Kingdom',\n",
        "                                                 'Macedonia [FYROM]', 'Azerbaijan', 'Ireland', 'Ireland', 'Congo [DRC]',\n",
        "                                                 'Congo [DRC]', 'Congo [DRC]', 'Bahamas', 'Gambia', 'Gambia', 'Bahamas',\n",
        "                                                 'Japan', 'Gaza Strip', 'Myanmar [Burma]', 'Sudan'])\n",
        "countries_to_drop = ['Others','Palestine', 'Saint Barthelemy', 'St. Martin', 'occupied Palestinian territory', \"(St. Martin',)\",\n",
        "                     'Channel Islands', 'Holy See', 'Reunion', 'Curacao', 'Eswatini', 'Cabo Verde', 'East Timor', 'MS Zaandam',\n",
        "                     'Sao Tome and Principe']"
      ],
      "execution_count": 0,
      "outputs": []
    },
    {
      "cell_type": "code",
      "metadata": {
        "id": "7NeqGsPf6yzs",
        "colab_type": "code",
        "outputId": "b127c26c-637d-4333-eedc-749e101d31d0",
        "colab": {
          "base_uri": "https://localhost:8080/",
          "height": 195
        }
      },
      "source": [
        "corrected_covid_data.head()"
      ],
      "execution_count": 18,
      "outputs": [
        {
          "output_type": "execute_result",
          "data": {
            "text/html": [
              "<div>\n",
              "<style scoped>\n",
              "    .dataframe tbody tr th:only-of-type {\n",
              "        vertical-align: middle;\n",
              "    }\n",
              "\n",
              "    .dataframe tbody tr th {\n",
              "        vertical-align: top;\n",
              "    }\n",
              "\n",
              "    .dataframe thead th {\n",
              "        text-align: right;\n",
              "    }\n",
              "</style>\n",
              "<table border=\"1\" class=\"dataframe\">\n",
              "  <thead>\n",
              "    <tr style=\"text-align: right;\">\n",
              "      <th></th>\n",
              "      <th>SNo</th>\n",
              "      <th>ObservationDate</th>\n",
              "      <th>Province/State</th>\n",
              "      <th>Country/Region</th>\n",
              "      <th>Last Update</th>\n",
              "      <th>Confirmed</th>\n",
              "      <th>Deaths</th>\n",
              "      <th>Recovered</th>\n",
              "    </tr>\n",
              "  </thead>\n",
              "  <tbody>\n",
              "    <tr>\n",
              "      <th>0</th>\n",
              "      <td>1</td>\n",
              "      <td>01/22/2020</td>\n",
              "      <td>Anhui</td>\n",
              "      <td>China</td>\n",
              "      <td>1/22/2020 17:00</td>\n",
              "      <td>1.0</td>\n",
              "      <td>0.0</td>\n",
              "      <td>0.0</td>\n",
              "    </tr>\n",
              "    <tr>\n",
              "      <th>1</th>\n",
              "      <td>2</td>\n",
              "      <td>01/22/2020</td>\n",
              "      <td>Beijing</td>\n",
              "      <td>China</td>\n",
              "      <td>1/22/2020 17:00</td>\n",
              "      <td>14.0</td>\n",
              "      <td>0.0</td>\n",
              "      <td>0.0</td>\n",
              "    </tr>\n",
              "    <tr>\n",
              "      <th>2</th>\n",
              "      <td>3</td>\n",
              "      <td>01/22/2020</td>\n",
              "      <td>Chongqing</td>\n",
              "      <td>China</td>\n",
              "      <td>1/22/2020 17:00</td>\n",
              "      <td>6.0</td>\n",
              "      <td>0.0</td>\n",
              "      <td>0.0</td>\n",
              "    </tr>\n",
              "    <tr>\n",
              "      <th>3</th>\n",
              "      <td>4</td>\n",
              "      <td>01/22/2020</td>\n",
              "      <td>Fujian</td>\n",
              "      <td>China</td>\n",
              "      <td>1/22/2020 17:00</td>\n",
              "      <td>1.0</td>\n",
              "      <td>0.0</td>\n",
              "      <td>0.0</td>\n",
              "    </tr>\n",
              "    <tr>\n",
              "      <th>4</th>\n",
              "      <td>5</td>\n",
              "      <td>01/22/2020</td>\n",
              "      <td>Gansu</td>\n",
              "      <td>China</td>\n",
              "      <td>1/22/2020 17:00</td>\n",
              "      <td>0.0</td>\n",
              "      <td>0.0</td>\n",
              "      <td>0.0</td>\n",
              "    </tr>\n",
              "  </tbody>\n",
              "</table>\n",
              "</div>"
            ],
            "text/plain": [
              "   SNo ObservationDate Province/State  ... Confirmed Deaths  Recovered\n",
              "0    1      01/22/2020          Anhui  ...       1.0    0.0        0.0\n",
              "1    2      01/22/2020        Beijing  ...      14.0    0.0        0.0\n",
              "2    3      01/22/2020      Chongqing  ...       6.0    0.0        0.0\n",
              "3    4      01/22/2020         Fujian  ...       1.0    0.0        0.0\n",
              "4    5      01/22/2020          Gansu  ...       0.0    0.0        0.0\n",
              "\n",
              "[5 rows x 8 columns]"
            ]
          },
          "metadata": {
            "tags": []
          },
          "execution_count": 18
        }
      ]
    },
    {
      "cell_type": "code",
      "metadata": {
        "id": "wxXkES1F52DC",
        "colab_type": "code",
        "colab": {}
      },
      "source": [
        "#Finding countries in corrected_covid_data but not in latitudes\n",
        "\n",
        "extras = extra_countries(corrected_covid_data['Country/Region'].unique(), latitudes_countries['country'].unique())"
      ],
      "execution_count": 0,
      "outputs": []
    },
    {
      "cell_type": "code",
      "metadata": {
        "id": "GZbfhkqxzxls",
        "colab_type": "code",
        "colab": {}
      },
      "source": [
        "for i in extras:\n",
        "  corrected_covid_data = corrected_covid_data[corrected_covid_data['Country/Region'] != i]"
      ],
      "execution_count": 0,
      "outputs": []
    },
    {
      "cell_type": "markdown",
      "metadata": {
        "id": "Q80wiroNSJSA",
        "colab_type": "text"
      },
      "source": [
        "## **Enter code to replace the Country/ Region column with the latitude and longitude columns**\n",
        "Also, drop unnecessary columns"
      ]
    },
    {
      "cell_type": "code",
      "metadata": {
        "id": "YJEakUx_DsC6",
        "colab_type": "code",
        "outputId": "24bb1dfe-7542-426e-8104-8f1dfb012b54",
        "colab": {
          "base_uri": "https://localhost:8080/",
          "height": 195
        }
      },
      "source": [
        "latitudes_countries.head()"
      ],
      "execution_count": 21,
      "outputs": [
        {
          "output_type": "execute_result",
          "data": {
            "text/html": [
              "<div>\n",
              "<style scoped>\n",
              "    .dataframe tbody tr th:only-of-type {\n",
              "        vertical-align: middle;\n",
              "    }\n",
              "\n",
              "    .dataframe tbody tr th {\n",
              "        vertical-align: top;\n",
              "    }\n",
              "\n",
              "    .dataframe thead th {\n",
              "        text-align: right;\n",
              "    }\n",
              "</style>\n",
              "<table border=\"1\" class=\"dataframe\">\n",
              "  <thead>\n",
              "    <tr style=\"text-align: right;\">\n",
              "      <th></th>\n",
              "      <th>country_code</th>\n",
              "      <th>latitude</th>\n",
              "      <th>longitude</th>\n",
              "      <th>country</th>\n",
              "    </tr>\n",
              "  </thead>\n",
              "  <tbody>\n",
              "    <tr>\n",
              "      <th>0</th>\n",
              "      <td>AD</td>\n",
              "      <td>42.546245</td>\n",
              "      <td>1.601554</td>\n",
              "      <td>Andorra</td>\n",
              "    </tr>\n",
              "    <tr>\n",
              "      <th>1</th>\n",
              "      <td>AE</td>\n",
              "      <td>23.424076</td>\n",
              "      <td>53.847818</td>\n",
              "      <td>United Arab Emirates</td>\n",
              "    </tr>\n",
              "    <tr>\n",
              "      <th>2</th>\n",
              "      <td>AF</td>\n",
              "      <td>33.939110</td>\n",
              "      <td>67.709953</td>\n",
              "      <td>Afghanistan</td>\n",
              "    </tr>\n",
              "    <tr>\n",
              "      <th>3</th>\n",
              "      <td>AG</td>\n",
              "      <td>17.060816</td>\n",
              "      <td>-61.796428</td>\n",
              "      <td>Antigua and Barbuda</td>\n",
              "    </tr>\n",
              "    <tr>\n",
              "      <th>4</th>\n",
              "      <td>AI</td>\n",
              "      <td>18.220554</td>\n",
              "      <td>-63.068615</td>\n",
              "      <td>Anguilla</td>\n",
              "    </tr>\n",
              "  </tbody>\n",
              "</table>\n",
              "</div>"
            ],
            "text/plain": [
              "  country_code   latitude  longitude               country\n",
              "0           AD  42.546245   1.601554               Andorra\n",
              "1           AE  23.424076  53.847818  United Arab Emirates\n",
              "2           AF  33.939110  67.709953           Afghanistan\n",
              "3           AG  17.060816 -61.796428   Antigua and Barbuda\n",
              "4           AI  18.220554 -63.068615              Anguilla"
            ]
          },
          "metadata": {
            "tags": []
          },
          "execution_count": 21
        }
      ]
    },
    {
      "cell_type": "code",
      "metadata": {
        "id": "tgE3_gCQF0TF",
        "colab_type": "code",
        "colab": {}
      },
      "source": [
        "req_lat_long = latitudes_countries.loc[:,['country','latitude', 'longitude']]\n",
        "req_lat_long = req_lat_long.set_index('country')"
      ],
      "execution_count": 0,
      "outputs": []
    },
    {
      "cell_type": "code",
      "metadata": {
        "id": "0tGoFwK4yHNd",
        "colab_type": "code",
        "outputId": "0b4a900f-050c-444a-fbb0-e7db5241eb0c",
        "colab": {
          "base_uri": "https://localhost:8080/",
          "height": 225
        }
      },
      "source": [
        "req_lat_long.head()"
      ],
      "execution_count": 23,
      "outputs": [
        {
          "output_type": "execute_result",
          "data": {
            "text/html": [
              "<div>\n",
              "<style scoped>\n",
              "    .dataframe tbody tr th:only-of-type {\n",
              "        vertical-align: middle;\n",
              "    }\n",
              "\n",
              "    .dataframe tbody tr th {\n",
              "        vertical-align: top;\n",
              "    }\n",
              "\n",
              "    .dataframe thead th {\n",
              "        text-align: right;\n",
              "    }\n",
              "</style>\n",
              "<table border=\"1\" class=\"dataframe\">\n",
              "  <thead>\n",
              "    <tr style=\"text-align: right;\">\n",
              "      <th></th>\n",
              "      <th>latitude</th>\n",
              "      <th>longitude</th>\n",
              "    </tr>\n",
              "    <tr>\n",
              "      <th>country</th>\n",
              "      <th></th>\n",
              "      <th></th>\n",
              "    </tr>\n",
              "  </thead>\n",
              "  <tbody>\n",
              "    <tr>\n",
              "      <th>Andorra</th>\n",
              "      <td>42.546245</td>\n",
              "      <td>1.601554</td>\n",
              "    </tr>\n",
              "    <tr>\n",
              "      <th>United Arab Emirates</th>\n",
              "      <td>23.424076</td>\n",
              "      <td>53.847818</td>\n",
              "    </tr>\n",
              "    <tr>\n",
              "      <th>Afghanistan</th>\n",
              "      <td>33.939110</td>\n",
              "      <td>67.709953</td>\n",
              "    </tr>\n",
              "    <tr>\n",
              "      <th>Antigua and Barbuda</th>\n",
              "      <td>17.060816</td>\n",
              "      <td>-61.796428</td>\n",
              "    </tr>\n",
              "    <tr>\n",
              "      <th>Anguilla</th>\n",
              "      <td>18.220554</td>\n",
              "      <td>-63.068615</td>\n",
              "    </tr>\n",
              "  </tbody>\n",
              "</table>\n",
              "</div>"
            ],
            "text/plain": [
              "                       latitude  longitude\n",
              "country                                   \n",
              "Andorra               42.546245   1.601554\n",
              "United Arab Emirates  23.424076  53.847818\n",
              "Afghanistan           33.939110  67.709953\n",
              "Antigua and Barbuda   17.060816 -61.796428\n",
              "Anguilla              18.220554 -63.068615"
            ]
          },
          "metadata": {
            "tags": []
          },
          "execution_count": 23
        }
      ]
    },
    {
      "cell_type": "code",
      "metadata": {
        "id": "vMqkgPloFKlF",
        "colab_type": "code",
        "colab": {}
      },
      "source": [
        "latitude_cols = []\n",
        "longitude_cols = []\n",
        "\n",
        "for i in corrected_covid_data['Country/Region']:\n",
        "  latitude = req_lat_long.loc[i, 'latitude']\n",
        "  longitude = req_lat_long.loc[i, 'longitude']\n",
        "  latitude_cols.append(latitude)\n",
        "  longitude_cols.append(longitude)\n",
        "\n",
        "latitude_cols = np.array(latitude_cols)\n",
        "longitude_cols = np.array(longitude_cols)"
      ],
      "execution_count": 0,
      "outputs": []
    },
    {
      "cell_type": "code",
      "metadata": {
        "id": "dX9kDkGMyO9Q",
        "colab_type": "code",
        "colab": {}
      },
      "source": [
        "corrected_covid_data['Latitude'] = latitude_cols\n",
        "corrected_covid_data['Longitude'] = longitude_cols"
      ],
      "execution_count": 0,
      "outputs": []
    },
    {
      "cell_type": "code",
      "metadata": {
        "id": "ewHTevcj1HI-",
        "colab_type": "code",
        "outputId": "16f04f7a-e5bf-448c-d512-4f4473f92205",
        "colab": {
          "base_uri": "https://localhost:8080/",
          "height": 195
        }
      },
      "source": [
        "corrected_covid_data.head()       #Obtained latitude and longitude for all countries within the dataframe"
      ],
      "execution_count": 26,
      "outputs": [
        {
          "output_type": "execute_result",
          "data": {
            "text/html": [
              "<div>\n",
              "<style scoped>\n",
              "    .dataframe tbody tr th:only-of-type {\n",
              "        vertical-align: middle;\n",
              "    }\n",
              "\n",
              "    .dataframe tbody tr th {\n",
              "        vertical-align: top;\n",
              "    }\n",
              "\n",
              "    .dataframe thead th {\n",
              "        text-align: right;\n",
              "    }\n",
              "</style>\n",
              "<table border=\"1\" class=\"dataframe\">\n",
              "  <thead>\n",
              "    <tr style=\"text-align: right;\">\n",
              "      <th></th>\n",
              "      <th>SNo</th>\n",
              "      <th>ObservationDate</th>\n",
              "      <th>Province/State</th>\n",
              "      <th>Country/Region</th>\n",
              "      <th>Last Update</th>\n",
              "      <th>Confirmed</th>\n",
              "      <th>Deaths</th>\n",
              "      <th>Recovered</th>\n",
              "      <th>Latitude</th>\n",
              "      <th>Longitude</th>\n",
              "    </tr>\n",
              "  </thead>\n",
              "  <tbody>\n",
              "    <tr>\n",
              "      <th>0</th>\n",
              "      <td>1</td>\n",
              "      <td>01/22/2020</td>\n",
              "      <td>Anhui</td>\n",
              "      <td>China</td>\n",
              "      <td>1/22/2020 17:00</td>\n",
              "      <td>1.0</td>\n",
              "      <td>0.0</td>\n",
              "      <td>0.0</td>\n",
              "      <td>35.86166</td>\n",
              "      <td>104.195397</td>\n",
              "    </tr>\n",
              "    <tr>\n",
              "      <th>1</th>\n",
              "      <td>2</td>\n",
              "      <td>01/22/2020</td>\n",
              "      <td>Beijing</td>\n",
              "      <td>China</td>\n",
              "      <td>1/22/2020 17:00</td>\n",
              "      <td>14.0</td>\n",
              "      <td>0.0</td>\n",
              "      <td>0.0</td>\n",
              "      <td>35.86166</td>\n",
              "      <td>104.195397</td>\n",
              "    </tr>\n",
              "    <tr>\n",
              "      <th>2</th>\n",
              "      <td>3</td>\n",
              "      <td>01/22/2020</td>\n",
              "      <td>Chongqing</td>\n",
              "      <td>China</td>\n",
              "      <td>1/22/2020 17:00</td>\n",
              "      <td>6.0</td>\n",
              "      <td>0.0</td>\n",
              "      <td>0.0</td>\n",
              "      <td>35.86166</td>\n",
              "      <td>104.195397</td>\n",
              "    </tr>\n",
              "    <tr>\n",
              "      <th>3</th>\n",
              "      <td>4</td>\n",
              "      <td>01/22/2020</td>\n",
              "      <td>Fujian</td>\n",
              "      <td>China</td>\n",
              "      <td>1/22/2020 17:00</td>\n",
              "      <td>1.0</td>\n",
              "      <td>0.0</td>\n",
              "      <td>0.0</td>\n",
              "      <td>35.86166</td>\n",
              "      <td>104.195397</td>\n",
              "    </tr>\n",
              "    <tr>\n",
              "      <th>4</th>\n",
              "      <td>5</td>\n",
              "      <td>01/22/2020</td>\n",
              "      <td>Gansu</td>\n",
              "      <td>China</td>\n",
              "      <td>1/22/2020 17:00</td>\n",
              "      <td>0.0</td>\n",
              "      <td>0.0</td>\n",
              "      <td>0.0</td>\n",
              "      <td>35.86166</td>\n",
              "      <td>104.195397</td>\n",
              "    </tr>\n",
              "  </tbody>\n",
              "</table>\n",
              "</div>"
            ],
            "text/plain": [
              "   SNo ObservationDate Province/State  ... Recovered  Latitude   Longitude\n",
              "0    1      01/22/2020          Anhui  ...       0.0  35.86166  104.195397\n",
              "1    2      01/22/2020        Beijing  ...       0.0  35.86166  104.195397\n",
              "2    3      01/22/2020      Chongqing  ...       0.0  35.86166  104.195397\n",
              "3    4      01/22/2020         Fujian  ...       0.0  35.86166  104.195397\n",
              "4    5      01/22/2020          Gansu  ...       0.0  35.86166  104.195397\n",
              "\n",
              "[5 rows x 10 columns]"
            ]
          },
          "metadata": {
            "tags": []
          },
          "execution_count": 26
        }
      ]
    },
    {
      "cell_type": "code",
      "metadata": {
        "id": "SOBf6OoQ1JuM",
        "colab_type": "code",
        "colab": {}
      },
      "source": [
        "corrected_covid_data.to_csv('cleaned_data.csv')"
      ],
      "execution_count": 0,
      "outputs": []
    },
    {
      "cell_type": "code",
      "metadata": {
        "id": "-7ilxX6Geepj",
        "colab_type": "code",
        "colab": {}
      },
      "source": [
        ""
      ],
      "execution_count": 0,
      "outputs": []
    }
  ]
}
